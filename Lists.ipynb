{
 "cells": [
  {
   "cell_type": "markdown",
   "id": "8f4a411c-3ad8-4f97-a24a-6c8a9d5e8f5f",
   "metadata": {
    "tags": []
   },
   "source": [
    "# Python Lists\n",
    "\n",
    "In this notebook we have some notes on the python list class"
   ]
  },
  {
   "cell_type": "markdown",
   "id": "93a65970-8409-46fc-82fd-80f7d8700a8b",
   "metadata": {},
   "source": [
    "What is a *list*? It is a collection of items in a particular order. Officially, \"Lists are mutable sequences, typically used to store collections of homogeneous items (where the precise degree of similarity will vary by application).\""
   ]
  },
  {
   "cell_type": "markdown",
   "id": "57223d01-3929-4415-af5c-3582da72f3ea",
   "metadata": {
    "tags": []
   },
   "source": [
    "## Creating lists"
   ]
  },
  {
   "cell_type": "markdown",
   "id": "e2b12d55-4929-4d8a-9bc6-9be4d7523620",
   "metadata": {
    "tags": []
   },
   "source": [
    "Lists may be constructed in several ways:\n",
    "\n",
    " - Using a pair of square brackets to denote the empty list: `[]`\n",
    "\n",
    " - Using square brackets, separating items with commas: `[a]`, `[a, b, c]`\n",
    "\n",
    " - Using a list comprehension: `[x for x in iterable]`\n",
    "\n",
    " - Using the type constructor: `list()` or `list(iterable)`"
   ]
  },
  {
   "cell_type": "code",
   "execution_count": 28,
   "id": "d3e7783c-f9ef-4925-8319-9f5c4f95b56a",
   "metadata": {},
   "outputs": [],
   "source": [
    "empty_list = []"
   ]
  },
  {
   "cell_type": "markdown",
   "id": "b9b64b6c-d45d-4aae-abaf-269b2aacd2b4",
   "metadata": {
    "tags": []
   },
   "source": [
    "## Modifying lists"
   ]
  },
  {
   "cell_type": "markdown",
   "id": "8b544a10-4628-4969-bbe2-634bebd168f1",
   "metadata": {},
   "source": [
    "### Length altering methods"
   ]
  },
  {
   "cell_type": "markdown",
   "id": "f1394cf8-5de8-47fb-a122-87278f998d7c",
   "metadata": {
    "tags": []
   },
   "source": [
    "We can use\n",
    "\n",
    "`append`\n",
    "\n",
    "`extend`\n",
    "\n",
    "`remove`\n",
    "\n",
    "`clear`\n",
    "\n",
    "`insert`"
   ]
  },
  {
   "cell_type": "markdown",
   "id": "dedcd1b6-7e55-48b3-8fa1-1a97f86baeb1",
   "metadata": {
    "tags": []
   },
   "source": [
    "### Sorting"
   ]
  },
  {
   "cell_type": "markdown",
   "id": "41779427-e218-4099-bd33-6cd5ddc01d1b",
   "metadata": {
    "tags": []
   },
   "source": [
    "NB a list containing mixed data types cannot be sorted. For example"
   ]
  },
  {
   "cell_type": "code",
   "execution_count": 27,
   "id": "58454b37-a4ca-44d6-af3f-b750270bcdcc",
   "metadata": {},
   "outputs": [
    {
     "ename": "TypeError",
     "evalue": "'<' not supported between instances of 'str' and 'int'",
     "output_type": "error",
     "traceback": [
      "\u001b[0;31m---------------------------------------------------------------------------\u001b[0m",
      "\u001b[0;31mTypeError\u001b[0m                                 Traceback (most recent call last)",
      "\u001b[0;32m/var/folders/29/wr_vfmh55m7fb82rkms8vdnr0000gp/T/ipykernel_42602/1681796224.py\u001b[0m in \u001b[0;36m<module>\u001b[0;34m\u001b[0m\n\u001b[1;32m      1\u001b[0m \u001b[0mmixed_list\u001b[0m \u001b[0;34m=\u001b[0m \u001b[0;34m[\u001b[0m\u001b[0;36m1\u001b[0m\u001b[0;34m,\u001b[0m \u001b[0;36m2\u001b[0m\u001b[0;34m,\u001b[0m \u001b[0;36m3\u001b[0m\u001b[0;34m,\u001b[0m \u001b[0;34m'four'\u001b[0m\u001b[0;34m,\u001b[0m \u001b[0;36m8\u001b[0m\u001b[0;34m,\u001b[0m \u001b[0;36m7\u001b[0m\u001b[0;34m]\u001b[0m\u001b[0;34m\u001b[0m\u001b[0;34m\u001b[0m\u001b[0m\n\u001b[0;32m----> 2\u001b[0;31m \u001b[0mmixed_list\u001b[0m\u001b[0;34m.\u001b[0m\u001b[0msort\u001b[0m\u001b[0;34m(\u001b[0m\u001b[0;34m)\u001b[0m\u001b[0;34m\u001b[0m\u001b[0;34m\u001b[0m\u001b[0m\n\u001b[0m",
      "\u001b[0;31mTypeError\u001b[0m: '<' not supported between instances of 'str' and 'int'"
     ]
    }
   ],
   "source": [
    "mixed_list = [1, 2, 3, 'four', 8, 7]\n",
    "mixed_list.sort()"
   ]
  },
  {
   "cell_type": "markdown",
   "id": "28849a17-6473-42fd-b3c6-9973972665f6",
   "metadata": {
    "tags": []
   },
   "source": [
    "### Reversing"
   ]
  },
  {
   "cell_type": "markdown",
   "id": "4f7c4970-7657-40fb-a3ea-346a299e707e",
   "metadata": {
    "tags": []
   },
   "source": [
    "Reversing the order of a list can be done in a few ways;\n",
    " - Using the `reverse` method. Note that this reverses *in place*.\n",
    " - Using indexing with a negative step. This returns a new list leaving the original unmodified.\n",
    " - Using the `reversed` built-in function. This returns an *iterator* object which we can wrap with `list` or use in a `for` loop.\n",
    " - Using a custom function."
   ]
  },
  {
   "cell_type": "code",
   "execution_count": 21,
   "id": "dd7f73ce-1b82-4b4e-adc0-4a2f2cfd6380",
   "metadata": {},
   "outputs": [
    {
     "data": {
      "text/plain": [
       "[9, 8, 7, 6, 5, 4, 3, 2, 1, 0]"
      ]
     },
     "execution_count": 21,
     "metadata": {},
     "output_type": "execute_result"
    }
   ],
   "source": [
    "# using reverse method\n",
    "my_list = list(range(10))\n",
    "my_list.reverse()\n",
    "my_list"
   ]
  },
  {
   "cell_type": "code",
   "execution_count": 12,
   "id": "bdc20b24-f8ee-4b96-8c9c-0a493a1aedfb",
   "metadata": {},
   "outputs": [
    {
     "data": {
      "text/plain": [
       "[9, 8, 7, 6, 5, 4, 3, 2, 1, 0]"
      ]
     },
     "execution_count": 12,
     "metadata": {},
     "output_type": "execute_result"
    }
   ],
   "source": [
    "# indexing with a negative step\n",
    "my_list = list(range(10))\n",
    "my_list[::-1]"
   ]
  },
  {
   "cell_type": "code",
   "execution_count": 30,
   "id": "6b9dbc39-a7a1-46b8-b9f7-6d470f69b527",
   "metadata": {},
   "outputs": [
    {
     "name": "stdout",
     "output_type": "stream",
     "text": [
      "<class 'list_reverseiterator'> [9, 8, 7, 6, 5, 4, 3, 2, 1, 0]\n"
     ]
    }
   ],
   "source": [
    "# Using the reversed built-in function\n",
    "my_list = list(range(10))\n",
    "print(type(reversed(my_list)), list(reversed(my_list)))"
   ]
  },
  {
   "cell_type": "code",
   "execution_count": null,
   "id": "4f8f6c31-01dc-4b92-8d9e-271e1d963ae9",
   "metadata": {},
   "outputs": [],
   "source": []
  }
 ],
 "metadata": {
  "kernelspec": {
   "display_name": "Python 3 (ipykernel)",
   "language": "python",
   "name": "python3"
  },
  "language_info": {
   "codemirror_mode": {
    "name": "ipython",
    "version": 3
   },
   "file_extension": ".py",
   "mimetype": "text/x-python",
   "name": "python",
   "nbconvert_exporter": "python",
   "pygments_lexer": "ipython3",
   "version": "3.8.16"
  }
 },
 "nbformat": 4,
 "nbformat_minor": 5
}
